{
 "cells": [
  {
   "cell_type": "markdown",
   "metadata": {},
   "source": [
    "### Twitter Analysis Part 3\n",
    "\n",
    "Now that I have a list of the Twitter users that follow Lawson, the following code retrieves all of the users they follow, counts how many Lawson followers also follow them, and then calculates the ratio of that count to the number of people that follow the user. "
   ]
  },
  {
   "cell_type": "code",
   "execution_count": null,
   "metadata": {
    "collapsed": true
   },
   "outputs": [],
   "source": [
    "working_dir = \"C:\\\\Users\\\\Mary Makris\\\\Documents\\\\Applied Data Analytics\\\\APIs\\\\\"\n",
    "outpath = \"C:\\\\Users\\\\Mary Makris\\\\Documents\\\\Applied Data Analytics\\\\Projects\\\\Twitter\\\\\"\n",
    "\n",
    "from datetime import datetime\n",
    "import json\n",
    "from twitter_functions import *\n",
    "from collections import Counter\n",
    "from collections import defaultdict"
   ]
  },
  {
   "cell_type": "code",
   "execution_count": null,
   "metadata": {
    "collapsed": true
   },
   "outputs": [],
   "source": [
    "#create dictionary of twitter credientials and then access the Twitter API\n",
    "auth =  { \"consumer_key\": \"insert\",\n",
    "          \"consumer_secret\": \"insert\",\n",
    "          \"access_key\": \"insert\",\n",
    "          \"access_secret\": \"insert\"\n",
    "        }\n",
    "\n",
    "api = initialize_twitter(auth)"
   ]
  },
  {
   "cell_type": "markdown",
   "metadata": {},
   "source": [
    "Here I initialize an empty list and then add all of Lawson's followers to it"
   ]
  },
  {
   "cell_type": "code",
   "execution_count": null,
   "metadata": {
    "collapsed": true
   },
   "outputs": [],
   "source": [
    "followers_list = list()\n",
    "\n",
    "with open(working_dir + \"Lawson_Followers.csv\", \"r\", encoding = \"UTF-8\") as ffile:\n",
    "    next(ffile)\n",
    "    for idx, line in enumerate(ffile):\n",
    "        line = line.strip()\n",
    "        followers_list.append(line)"
   ]
  },
  {
   "cell_type": "markdown",
   "metadata": {},
   "source": [
    "Now I am going to go lookup the full information on Lawsons followers"
   ]
  },
  {
   "cell_type": "code",
   "execution_count": null,
   "metadata": {},
   "outputs": [],
   "source": [
    "##initialize a list\n",
    "friends_user_ids = []\n",
    "\n",
    "# All records will be a dictionary with the twitter ID as the key and \n",
    "# a UserRecord as the value. \n",
    "all_records = lookup_users_from_handles(api, followers_list)\n",
    "\n",
    "# This puts the ids we are getting followers from in a list. \n",
    "for id in all_records : #access the keys, which are ids.\n",
    "    friends_user_ids.append(id)"
   ]
  },
  {
   "cell_type": "code",
   "execution_count": null,
   "metadata": {},
   "outputs": [],
   "source": [
    "# How long is it going to take us to pull these friends?\n",
    "total_friends = 0\n",
    "for id, rec in all_records.items() :\n",
    "    total_friends += rec.friends_count\n",
    "    \n",
    "print(\"A complete run with no limits run is \" + \n",
    "      \"going to take {min:.2f} minutes ({hour:.2f} hours)\".format(min=total_friends/5000,\n",
    "                                                                              hour=total_friends/(60*5000)))"
   ]
  },
  {
   "cell_type": "code",
   "execution_count": null,
   "metadata": {},
   "outputs": [],
   "source": [
    "# Now I'm going to pull all the friends of the people in our list\n",
    "#\n",
    "followers_of_starting = gather_friends(api,\n",
    "                                         friends_user_ids,\n",
    "                                         friends_limit=None)   \n",
    "\n",
    "# followers_of_starting will be a dictionary with the key being the id(s) in starting_user_id\n",
    "# and the value is a list of all the followers.\n",
    "#check a couple key value pairs out\n",
    "first2pairs = {k: followers_of_starting[k] for k in list(followers_of_starting)[:2]}\n",
    "print(first2pairs)"
   ]
  },
  {
   "cell_type": "markdown",
   "metadata": {},
   "source": [
    "Now that we have a list of all the friends IDs, I am going to append them all into one big list and then use a counter dictionary to count how many time an ID reoccurs. "
   ]
  },
  {
   "cell_type": "code",
   "execution_count": null,
   "metadata": {},
   "outputs": [],
   "source": [
    "#initialize a list\n",
    "friends_ids = []\n",
    "\n",
    "#make a list of the ids in the dictionary\n",
    "friends_ids_list = list(followers_of_starting.values())\n",
    "\n",
    "#it's a list of a list, so I needed to dig one level deeper\n",
    "for sublist in friends_ids_list:\n",
    "    for item in sublist:\n",
    "        friends_ids.append(item)\n",
    "        \n",
    "#Now I can count them all up!        \n",
    "friend_count = Counter(friends_ids) \n",
    "\n",
    "##make sure it worked\n",
    "first2counts = {k: friend_count[k] for k in list(friend_count)[:2]}\n",
    "print(first2counts)"
   ]
  },
  {
   "cell_type": "code",
   "execution_count": null,
   "metadata": {},
   "outputs": [],
   "source": [
    "for start_id, list_of_followers in followers_of_starting.items() :\n",
    "    \n",
    "    # Using a set here instead of a list so that we pull each ID only once.\n",
    "    ids_to_hydrate = {id for id in list_of_followers if id not in all_records} \n",
    "    \n",
    "    these_records = lookup_users_from_ids(api,ids=ids_to_hydrate)\n",
    "\n",
    "    for id, rec in these_records.items() :\n",
    "        all_records[id] = rec"
   ]
  },
  {
   "cell_type": "code",
   "execution_count": null,
   "metadata": {
    "collapsed": true
   },
   "outputs": [],
   "source": [
    "#create new dictionary with all_records dictionary fields I need and the ID counter count\n",
    "finalrecords_dict = defaultdict(list)\n",
    "\n",
    "for id, rec in all_records.items():\n",
    "    if rec.followers_count > 200 and rec.followers_count < 5000:\n",
    "        finalrecords_dict[id] = rec.name, rec.screen_name, rec.followers_count, friend_count[id],(friend_count[id]/rec.followers_count)"
   ]
  },
  {
   "cell_type": "code",
   "execution_count": null,
   "metadata": {
    "collapsed": true
   },
   "outputs": [],
   "source": [
    "##And now we can write out all the records!\n",
    "with open(outpath + \"finalrecords1.csv\",'w',encoding=\"utf8\") as donefile:\n",
    "    headers = ['id', 'name', 'screen name', 'followers_count', 'count', 'affinity_score']          \n",
    "    donefile.write(\",\".join(headers) + \"\\n\")\n",
    "    for key,value in finalrecords_dict.items():\n",
    "        record = [str(thing) for thing in value]\n",
    "        donefile.write (str(key) +\",\" + \",\".join(record) + \"\\n\")"
   ]
  },
  {
   "cell_type": "code",
   "execution_count": null,
   "metadata": {
    "collapsed": true
   },
   "outputs": [],
   "source": [
    "##for some reason even though I added this to the other Twitter Functions you wrote, Jup Note couldn't find it so I \n",
    "##added it here too\n",
    "\n",
    "def gather_friends(api, ids, friends_limit = 10000, file_name=None) :\n",
    "    ''' from a set of IDs, get all the people they follow's ids up to follower\n",
    "        limit. Returns a dictionary with key = id, value = following_id list\n",
    "    '''\n",
    "    \n",
    "    ret_dict = defaultdict(list)    \n",
    "    \n",
    "    for this_id in ids :\n",
    "        print(\"Pulling friends for \" + str(this_id))        \n",
    "        pulled_friends = 0\n",
    "        try :\n",
    "            for page in tweepy.Cursor(api.friends_ids,user_id = this_id).pages() :\n",
    "                pulled_friends += len(page['ids'])\n",
    "                ret_dict[this_id].extend(page['ids'])\n",
    "                print(\"Number pulled: \" + str(pulled_friends))                \n",
    "                \n",
    "                if friends_limit and pulled_friends > friends_limit :\n",
    "                    break\n",
    "\n",
    "            if file_name is not None :\n",
    "                with open(file_name,'a') as ofile :\n",
    "                    for friend_id in ret_dict[this_id] :\n",
    "                        ofile.write(\"\\t\".join([str(this_id),str(friend_id)]) + \"\\n\")\n",
    "\n",
    "        except tweepy.TweepError :\n",
    "            print(\"Failed to run command on that user (probably protected or bad id). Skipping...\")\n",
    "            \n",
    "    return(ret_dict)"
   ]
  }
 ],
 "metadata": {
  "kernelspec": {
   "display_name": "Python 3",
   "language": "python",
   "name": "python3"
  },
  "language_info": {
   "codemirror_mode": {
    "name": "ipython",
    "version": 3
   },
   "file_extension": ".py",
   "mimetype": "text/x-python",
   "name": "python",
   "nbconvert_exporter": "python",
   "pygments_lexer": "ipython3",
   "version": "3.6.1"
  }
 },
 "nbformat": 4,
 "nbformat_minor": 2
}
