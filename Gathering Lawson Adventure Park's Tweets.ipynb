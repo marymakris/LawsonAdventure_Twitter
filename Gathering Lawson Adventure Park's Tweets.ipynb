{
 "cells": [
  {
   "cell_type": "markdown",
   "metadata": {},
   "source": [
    "### Twitter Analysis Part 1\n",
    "\n",
    "Lawson Adventure Park is a potential new client for marketing software and agency company TOMIS. TOMIS wants to learn more about Lawson's social media, so I am pulling all of the tweets Lawson has posted the last two years on Twitter and am going to analyze the engagement metrics to see if there is useful info such as ideal posting times, top posts, or any other insight that can be gleaned from the data. I'm going to analyze the data in R and then display it in an excel dashboard so TOMIS has something unique to show Lawson if they would like. "
   ]
  },
  {
   "cell_type": "code",
   "execution_count": null,
   "metadata": {
    "collapsed": true
   },
   "outputs": [],
   "source": [
    "import tweepy\n",
    "import time\n",
    "import csv"
   ]
  },
  {
   "cell_type": "code",
   "execution_count": null,
   "metadata": {
    "collapsed": true
   },
   "outputs": [],
   "source": [
    "##define path for any files I want to write out\n",
    "outpath = \"C:\\\\Users\\\\Mary Makris\\\\Documents\\\\Applied Data Analytics\\\\Projects\\\\Twitter\\\\\""
   ]
  },
  {
   "cell_type": "code",
   "execution_count": null,
   "metadata": {
    "collapsed": true
   },
   "outputs": [],
   "source": [
    "#### name twitter authorization credentials \n",
    "consumer_key = 'insert'\n",
    "consumer_secret = 'insert'\n",
    "auth = tweepy.OAuthHandler(consumer_key, consumer_secret)\n",
    "\n",
    "access_token = 'insert'\n",
    "access_token_secret = 'insert'\n",
    "\n",
    "auth.set_access_token(access_token,access_token_secret)"
   ]
  },
  {
   "cell_type": "markdown",
   "metadata": {},
   "source": [
    "Googling with classmates led to this handy function online to pull tweets for a twitter handle and I added the retweet and favorite count so I could measure engagement with tweets. Luckily Lawson Adventure doesn't have many tweets so there was no issue pulling all of them.  \n",
    "\n",
    "Here is a link to the function: https://gist.github.com/yanofsky/5436496"
   ]
  },
  {
   "cell_type": "code",
   "execution_count": null,
   "metadata": {
    "collapsed": true
   },
   "outputs": [],
   "source": [
    "def get_all_tweets(screen_name):\n",
    "    #Twitter only allows access to a users most recent 3240 tweets with this method\n",
    "\n",
    "    #authorize twitter, initialize tweepy\n",
    "    auth = tweepy.OAuthHandler(consumer_key, consumer_secret)\n",
    "    auth.set_access_token(access_token, access_token_secret)\n",
    "    api = tweepy.API(auth)\n",
    "\n",
    "    #initialize a list to hold all the weets\n",
    "    ids = []\n",
    "\n",
    "    #make initial request for most recent tweets (200 is the maximum allowed count)\n",
    "    recent_tweets = api.user_timeline(screen_name = \"LawsonAdventure\",count=200)\n",
    "\n",
    "    #save most recent tweets\n",
    "    ids.extend(recent_tweets)\n",
    "\n",
    "    #save the id of the oldest tweet less one\n",
    "    historic = ids[-1].id - 1\n",
    "\n",
    "    #keep grabbing tweets until there are no tweets left to grab\n",
    "    while len(recent_tweets) > 0:\n",
    "        print(\"getting tweets before %s\" % (historic))\n",
    "\n",
    "        #all subsiquent requests use the max_id param to prevent duplicates\n",
    "        recent_tweets = api.user_timeline(screen_name = \"LawsonAdventure\",count=200,max_id=historic)\n",
    "\n",
    "        #save most recent tweets\n",
    "        ids.extend(recent_tweets)\n",
    "\n",
    "        #update the id of the oldest tweet less one\n",
    "        historic = ids[-1].id - 1\n",
    "\n",
    "        print(\"...%s tweets downloaded so far\" % (len(ids)))\n",
    "\n",
    "#transform the tweepy tweets into a 2D array that will populate the csv\n",
    "    outtweets = [[tweet.id_str, tweet.created_at, tweet.text.encode(\"utf-8\"), tweet.retweet_count, tweet.favorite_count] \n",
    "                 for tweet in ids]\n",
    "\n",
    "    #write tweets to a file\n",
    "    with open(outpath + '%s_tweets.csv' % screen_name, 'w') as f:\n",
    "        writer = csv.writer(f)\n",
    "        writer.writerow([\"id\",\"created_at\",\"text\", \"favorite_count\", \"retweet_count\"])\n",
    "        writer.writerows(outtweets)\n",
    "\n",
    "    pass\n"
   ]
  },
  {
   "cell_type": "code",
   "execution_count": null,
   "metadata": {
    "collapsed": true
   },
   "outputs": [],
   "source": [
    "get_all_tweets(\"LawsonAdventure\")"
   ]
  }
 ],
 "metadata": {
  "kernelspec": {
   "display_name": "Python 3",
   "language": "python",
   "name": "python3"
  },
  "language_info": {
   "codemirror_mode": {
    "name": "ipython",
    "version": 3
   },
   "file_extension": ".py",
   "mimetype": "text/x-python",
   "name": "python",
   "nbconvert_exporter": "python",
   "pygments_lexer": "ipython3",
   "version": "3.6.1"
  }
 },
 "nbformat": 4,
 "nbformat_minor": 2
}
