{
 "cells": [
  {
   "cell_type": "markdown",
   "metadata": {},
   "source": [
    "## Twitter Part 2\n",
    "Now I am going to pull the Twitter information for each of Lawson's followers and write it to a file to use for the affinity analysis.\n",
    "\n",
    "This code utilized functions that you (JChan) wrote and they are stored in `twitter_functions.py`."
   ]
  },
  {
   "cell_type": "code",
   "execution_count": null,
   "metadata": {
    "collapsed": true
   },
   "outputs": [],
   "source": [
    "from datetime import datetime\n",
    "import json\n",
    "from twitter_functions import * "
   ]
  },
  {
   "cell_type": "markdown",
   "metadata": {},
   "source": [
    "In the cell below, I create dictionary of twitter crediential and then access the Twitter API"
   ]
  },
  {
   "cell_type": "code",
   "execution_count": null,
   "metadata": {
    "collapsed": true
   },
   "outputs": [],
   "source": [
    "auth =  { \"consumer_key\": \"RieFLI1jZeYzM7bH48f61WJPU\",\n",
    "          \"consumer_secret\": \"xjAL1SGtEtkOTdzkYrEspPeaYfXLaEoiizFSqcvvGV2y5tp0cC\",\n",
    "          \"access_key\": \"1717146506-e2FBwDe2jBi4gJ0I8Wt1rdGM284IzXO6M3GVDYd\",\n",
    "          \"access_secret\": \"vd0fH2drnIuJDzBL1a9nprMvz0Sg99w5aJmS5om4cFuSg\"\n",
    "        }\n",
    "\n",
    "api = initialize_twitter(auth)"
   ]
  },
  {
   "cell_type": "markdown",
   "metadata": {},
   "source": [
    "Now you set the handle (or handles) that represent one group or topic on Twitter. These should be in a list. The output file name (`ofile_name`) is determined based on today's date and the first element in the list. Feel free to modify. "
   ]
  },
  {
   "cell_type": "code",
   "execution_count": null,
   "metadata": {
    "collapsed": true
   },
   "outputs": [],
   "source": [
    "##store Lawson's Twitter handle in a variable called user\n",
    "user = ['LawsonAdventure'] \n",
    "\n",
    "##define file output name\n",
    "ofile_name = (\"LawsonAdventure_Followers.txt\") "
   ]
  },
  {
   "cell_type": "code",
   "execution_count": null,
   "metadata": {
    "collapsed": true
   },
   "outputs": [],
   "source": [
    "First I am going to look up the information for Lawson."
   ]
  },
  {
   "cell_type": "code",
   "execution_count": null,
   "metadata": {},
   "outputs": [],
   "source": [
    "#initialize list\n",
    "user_id = []\n",
    "\n",
    "# All records will be a dictionary with the twitter ID as the key and \n",
    "# a UserRecord as the value. \n",
    "all_records = lookup_users_from_handles(api, user)\n",
    "\n",
    "# Put Lawson's ID into a list \n",
    "for id in all_records : #access the keys, which are ids.\n",
    "    user_id.append(id)"
   ]
  },
  {
   "cell_type": "code",
   "execution_count": null,
   "metadata": {},
   "outputs": [],
   "source": [
    "# How long is it going to take us to pull these followers?\n",
    "total_followers = 0\n",
    "for id, rec in all_records.items() :\n",
    "    total_followers += rec.followers_count\n",
    "    \n",
    "print(\"A complete run with no limits run is \" + \n",
    "      \"going to take {min:.2f} minutes ({hour:.2f} hours)\".format(min=total_followers/5000,\n",
    "                                                                              hour=total_followers/(60*5000)))"
   ]
  },
  {
   "cell_type": "code",
   "execution_count": null,
   "metadata": {},
   "outputs": [],
   "source": [
    "# Now let's pull all the followers ids for Lawson Adventure Company \n",
    "\n",
    "followers_of_user = gather_followers(api,\n",
    "                                         user_id,\n",
    "                                         follower_limit=None) # Modify this limit if you need to. Set it to \"None\" to get all   \n",
    "\n",
    "# followers_of_user will be a dictionary with the key being the id(s) in user_id\n",
    "# and the value is a list of all the followers."
   ]
  },
  {
   "cell_type": "code",
   "execution_count": null,
   "metadata": {},
   "outputs": [],
   "source": [
    "# Next we hydrate all the followers records with their friend count, etc. \n",
    "for start_id, list_of_followers in followers_of_user.items() :\n",
    "    \n",
    "    ids_to_hydrate = {id for id in list_of_followers if id not in all_records} \n",
    "    \n",
    "    these_records = lookup_users_from_ids(api,ids=ids_to_hydrate)\n",
    "\n",
    "    for id, rec in these_records.items() :\n",
    "        all_records[id] = rec\n"
   ]
  },
  {
   "cell_type": "markdown",
   "metadata": {},
   "source": [
    "Now we can write out all the records to a file! These functions define what information from Twitter\n",
    "is written to the file. For this analysis I kept it all, but what I care about is the follower's screen names"
   ]
  },
  {
   "cell_type": "code",
   "execution_count": null,
   "metadata": {
    "collapsed": true
   },
   "outputs": [],
   "source": [
    "with open(ofile_name,'w') as ofile :\n",
    "    write_user_rec_headers(ofile)\n",
    "    for id, rec in all_records.items() :\n",
    "        write_user_rec(ofile, rec)"
   ]
  }
 ],
 "metadata": {
  "kernelspec": {
   "display_name": "Python 3",
   "language": "python",
   "name": "python3"
  },
  "language_info": {
   "codemirror_mode": {
    "name": "ipython",
    "version": 3
   },
   "file_extension": ".py",
   "mimetype": "text/x-python",
   "name": "python",
   "nbconvert_exporter": "python",
   "pygments_lexer": "ipython3",
   "version": "3.6.1"
  }
 },
 "nbformat": 4,
 "nbformat_minor": 1
}
